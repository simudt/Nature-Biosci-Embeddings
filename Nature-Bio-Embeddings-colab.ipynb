{
 "cells": [
  {
   "cell_type": "markdown",
   "metadata": {},
   "source": [
    "# Nature Bio Embeddings\n",
    "\n",
    "This Jupyter Notebook code demonstrates the usage of the PaperEmbeddingsQueryEngine class for querying similar papers based on their embeddings. The code utilizes various libraries and models for natural language processing and similarity computation. In this environment, you will find a curated collection of `open access` research paper abstracts datasets specifically focused on biosciences, sourced exclusively from Nature journal publications. By gathering these datasets, repository aims to provide a open, comprehensive entrypoint embeddings for researchers, students, and enthusiasts in the biosciences field. Datasets included in this repository are solely abstracts from Nature publications in the field of biosciences.\n",
    "\n",
    "In addition to the datasets available here, this repository houses the embedding models created using the `all-MPNet-base-v2` sentence transformer model which provides a comprehensive collection of embeddings that encode the semantic information of the data. These embeddings serve as compact numerical representations of sentences or texts, allowing for efficient similarity comparisons, clustering, and downstream applications.\n",
    "\n",
    "Whether you are working on natural language processing tasks, information retrieval, or machine learning applications, the embeddings in this repository will enhance your research and analysis capabilities. You can leverage them for tasks such as document similarity, text classification, question-answering, and more.\n",
    "\n",
    "[Additionally you can access the embeddings via HuggingFace](https://huggingface.co/simudt/nature-bio-oa-abstract-embeddings)\n"
   ]
  },
  {
   "cell_type": "markdown",
   "metadata": {},
   "source": [
    "## Environment Setup\n"
   ]
  },
  {
   "cell_type": "markdown",
   "metadata": {},
   "source": [
    "Before running the code, please make sure you have the following dependencies installed:\n"
   ]
  },
  {
   "cell_type": "code",
   "execution_count": null,
   "metadata": {},
   "outputs": [],
   "source": [
    "!git clone https://github.com/SCALEDSL/Nature-Biosci-Embeddings"
   ]
  },
  {
   "cell_type": "code",
   "execution_count": null,
   "metadata": {},
   "outputs": [],
   "source": [
    "%cd /content/Nature-Biosci-Embeddings"
   ]
  },
  {
   "cell_type": "code",
   "execution_count": null,
   "metadata": {},
   "outputs": [],
   "source": [
    "!pip3 install -U sentence-transformers transformers pandas"
   ]
  },
  {
   "cell_type": "code",
   "execution_count": null,
   "metadata": {},
   "outputs": [],
   "source": [
    "!pip3 list"
   ]
  },
  {
   "cell_type": "markdown",
   "metadata": {},
   "source": [
    "## Querying Embeddings\n"
   ]
  },
  {
   "cell_type": "markdown",
   "metadata": {},
   "source": [
    "The last part of the code demonstrates an example usage of the PaperEmbeddingsQueryEngine class. It creates an instance of the class, specifies the CSV file and embedding folder paths, and queries similar papers based on a given query. In this example, the query is \"What are side effects of BioNTech COVID-19 mRNA vaccine?\". Please make sure to adjust the file paths in the example code to match your specific setup if you changed the directories. Feel free to experiment with different queries and explore the retrieved similar papers.\n",
    "\n",
    "Note:\n",
    "The code assumes the availability of a CUDA-enabled GPU for faster computation.\n",
    "If a GPU is not available, it falls back to CPU execution.\n"
   ]
  },
  {
   "cell_type": "code",
   "execution_count": null,
   "metadata": {},
   "outputs": [],
   "source": [
    "import os\n",
    "import torch\n",
    "import pandas as pd\n",
    "import numpy as np\n",
    "from sklearn.metrics.pairwise import cosine_similarity\n",
    "from sentence_transformers import SentenceTransformer\n",
    "\n",
    "\n",
    "class PaperEmbeddingsQueryEngine:\n",
    "    def __init__(\n",
    "        self, model_name=\"all-MPNet-base-v2\", csv_file_path=None, embedding_folder=None\n",
    "    ):\n",
    "        self.device = torch.device(\"cuda\" if torch.cuda.is_available() else \"cpu\")\n",
    "        self.csv_file_path = csv_file_path\n",
    "        self.embedding_folder = embedding_folder\n",
    "\n",
    "        try:\n",
    "            self.model = SentenceTransformer(model_name).to(self.device)\n",
    "        except OSError:\n",
    "            print(\"Model not found, please try another model.\")\n",
    "            exit()\n",
    "\n",
    "        self.data_df = pd.read_csv(self.csv_file_path)\n",
    "        self.journal = self.data_df[\"Journal\"].tolist()\n",
    "        self.titles = self.data_df[\"Title\"].tolist()\n",
    "        self.paper_descriptions = self.data_df[\"Abstract\"].tolist()\n",
    "        self.paper_urls = self.data_df[\"URL\"].tolist()\n",
    "\n",
    "        self.titles_embeddings = self.load_embeddings(\n",
    "            \"nature_bio_titles_embeddings.pth\"\n",
    "        )\n",
    "        self.paper_description_embeddings = self.load_embeddings(\n",
    "            \"nature_bio_abstract_embeddings.pth\"\n",
    "        )\n",
    "\n",
    "    def load_embeddings(self, embedding_file_name):\n",
    "        embedding_file = os.path.join(self.embedding_folder, embedding_file_name)\n",
    "        embeddings = torch.load(embedding_file, map_location=self.device)\n",
    "        print(f\"Shape of the {embedding_file_name}: \", embeddings[0].shape)\n",
    "        return embeddings\n",
    "\n",
    "    def query_similar_papers(self, query, top_k=5):\n",
    "        query_embedding = self.model.encode(\n",
    "            [query], convert_to_tensor=True, device=self.device\n",
    "        )\n",
    "        query_embeddings_tensor = query_embedding.to(self.device)\n",
    "\n",
    "        titles_similarity_scores = self.compute_similarity_scores(\n",
    "            query_embeddings_tensor, self.titles_embeddings\n",
    "        )\n",
    "        paper_desc_similarity_scores = self.compute_similarity_scores(\n",
    "            query_embeddings_tensor, self.paper_description_embeddings\n",
    "        )\n",
    "\n",
    "        top_k_titles_indices = self.get_top_k_indices(titles_similarity_scores, top_k)\n",
    "        top_k_paper_desc_indices = self.get_top_k_indices(\n",
    "            paper_desc_similarity_scores, top_k\n",
    "        )\n",
    "\n",
    "        self.display_results(\n",
    "            query, top_k_titles_indices, self.titles, titles_similarity_scores, \"title\"\n",
    "        )\n",
    "        print()\n",
    "        self.display_results(\n",
    "            query,\n",
    "            top_k_paper_desc_indices,\n",
    "            self.paper_descriptions,\n",
    "            paper_desc_similarity_scores,\n",
    "            \"paper description\",\n",
    "        )\n",
    "\n",
    "    def compute_similarity_scores(self, query_embeddings_tensor, embeddings):\n",
    "        embeddings_tensor = torch.stack(embeddings).to(self.device)\n",
    "        return cosine_similarity(\n",
    "            query_embeddings_tensor.cpu().numpy(), embeddings_tensor.cpu().numpy()\n",
    "        )\n",
    "\n",
    "    def get_top_k_indices(self, similarity_scores, top_k):\n",
    "        return np.argsort(similarity_scores[0])[-top_k:]\n",
    "\n",
    "    def display_results(self, query, top_k_indices, data, similarity_scores, data_type):\n",
    "        for idx in reversed(top_k_indices):\n",
    "            print(f\"The most related {data_type} to '{query}' is '{data[idx]}'\")\n",
    "            print(f\"Journal of this paper: {self.journal[idx]}\")\n",
    "            print(f\"Journal URL of this: {self.paper_urls[idx]}\")\n",
    "            print(f\"Similarity score: {similarity_scores[0][idx]}\")\n",
    "\n",
    "\n",
    "if __name__ == \"__main__\":\n",
    "    csv_file = (\n",
    "        \"/content/Nature-Biosci-Embeddings/dataset/concatenated/finalized_nature_bio_embeddings.csv\"\n",
    "    )\n",
    "    embedding_folder = \"/content/Nature-Biosci-Embeddings/embeddings/\"\n",
    "    engine = PaperEmbeddingsQueryEngine(\n",
    "        csv_file_path=csv_file, embedding_folder=embedding_folder\n",
    "    )\n",
    "    query = \"What are side effects of BioNTech COVID-19 mRNA vaccine?\"\n",
    "    engine.query_similar_papers(query)"
   ]
  }
 ],
 "metadata": {
  "language_info": {
   "name": "python"
  },
  "orig_nbformat": 4
 },
 "nbformat": 4,
 "nbformat_minor": 2
}
